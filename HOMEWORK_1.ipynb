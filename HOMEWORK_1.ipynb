{
 "cells": [
  {
   "cell_type": "markdown",
   "id": "d629a842",
   "metadata": {},
   "source": [
    "## Question 1\n",
    "\n",
    "* What's the version of Pandas that you installed?"
   ]
  },
  {
   "cell_type": "code",
   "execution_count": 1,
   "id": "cc24dcbb",
   "metadata": {},
   "outputs": [
    {
     "data": {
      "text/plain": [
       "'2.0.3'"
      ]
     },
     "execution_count": 1,
     "metadata": {},
     "output_type": "execute_result"
    }
   ],
   "source": [
    "# Obtain installed pandas version\n",
    "import pandas as pd\n",
    "\n",
    "pd.__version__"
   ]
  },
  {
   "cell_type": "markdown",
   "id": "d81a5276",
   "metadata": {},
   "source": [
    "## Question 2\n",
    "\n",
    "* How many columns are in the dataset?"
   ]
  },
  {
   "cell_type": "code",
   "execution_count": 2,
   "id": "c6a580a7",
   "metadata": {},
   "outputs": [
    {
     "data": {
      "text/plain": [
       "10"
      ]
     },
     "execution_count": 2,
     "metadata": {},
     "output_type": "execute_result"
    }
   ],
   "source": [
    "# Obtain the number features/columns of the dataset\n",
    "\n",
    "url = \"https://raw.githubusercontent.com/alexeygrigorev/datasets/master/housing.csv\"\n",
    "df = pd.read_csv(url)\n",
    "\n",
    "df.shape[1]"
   ]
  },
  {
   "cell_type": "markdown",
   "id": "370a78c7",
   "metadata": {},
   "source": [
    "## Question 3\n",
    "\n",
    "* Which columns in the dataset have missing values?"
   ]
  },
  {
   "cell_type": "code",
   "execution_count": 3,
   "id": "9c1cb4d0",
   "metadata": {
    "scrolled": true
   },
   "outputs": [
    {
     "data": {
      "text/plain": [
       "longitude               0\n",
       "latitude                0\n",
       "housing_median_age      0\n",
       "total_rooms             0\n",
       "total_bedrooms        207\n",
       "population              0\n",
       "households              0\n",
       "median_income           0\n",
       "median_house_value      0\n",
       "ocean_proximity         0\n",
       "dtype: int64"
      ]
     },
     "execution_count": 3,
     "metadata": {},
     "output_type": "execute_result"
    }
   ],
   "source": [
    "# Obtain the total number of null values present in each column\n",
    "\n",
    "df.isnull().sum()"
   ]
  },
  {
   "cell_type": "markdown",
   "id": "1f8c5958",
   "metadata": {},
   "source": [
    "## Question 4\n",
    "* How many unique values does the ocean_proximity column have?"
   ]
  },
  {
   "cell_type": "code",
   "execution_count": 4,
   "id": "e0372744",
   "metadata": {},
   "outputs": [
    {
     "data": {
      "text/plain": [
       "5"
      ]
     },
     "execution_count": 4,
     "metadata": {},
     "output_type": "execute_result"
    }
   ],
   "source": [
    "# Obtain number of unique elements in `ocean_proximity`\n",
    "\n",
    "df.ocean_proximity.nunique()"
   ]
  },
  {
   "cell_type": "markdown",
   "id": "ec558800",
   "metadata": {},
   "source": [
    "## Question 5\n",
    "\n",
    "* What's the average value of the median_house_value for the houses located near the bay?"
   ]
  },
  {
   "cell_type": "code",
   "execution_count": 5,
   "id": "a9f3dbac",
   "metadata": {},
   "outputs": [
    {
     "data": {
      "text/plain": [
       "ocean_proximity\n",
       "False    200321.954605\n",
       "True     259212.311790\n",
       "Name: median_house_value, dtype: float64"
      ]
     },
     "execution_count": 5,
     "metadata": {},
     "output_type": "execute_result"
    }
   ],
   "source": [
    "# Filter `ocean_proximity` by `NEAR BAY` using groupby\n",
    "# Streamline result by obtaining mean of `median_house_value` of both `NEAR BAY` and not `NEAR BAY`\n",
    "\n",
    "df.groupby(df['ocean_proximity'] == 'NEAR BAY').median_house_value.mean()"
   ]
  },
  {
   "cell_type": "markdown",
   "id": "2c596dfd",
   "metadata": {},
   "source": [
    "## Question 6\n",
    "\n",
    "* Calculate the average of total_bedrooms column in the dataset.\n",
    "\n",
    "* Use the fillna method to fill the missing values in total_bedrooms with the mean value from the previous step.\n",
    "\n",
    "`Now, calculate the average of total_bedrooms again.`\n",
    "`Has it changed? Yes/No`\n",
    "\n",
    "`Hint: take into account only 3 digits after the decimal point.`"
   ]
  },
  {
   "cell_type": "code",
   "execution_count": 6,
   "id": "29a13d9e",
   "metadata": {},
   "outputs": [
    {
     "data": {
      "text/plain": [
       "537.8705525375618"
      ]
     },
     "execution_count": 6,
     "metadata": {},
     "output_type": "execute_result"
    }
   ],
   "source": [
    "# Calculate mean value of `total_bedrooms` column\n",
    "\n",
    "avg_tot_bedrooms = df.total_bedrooms.mean()\n",
    "avg_tot_bedrooms"
   ]
  },
  {
   "cell_type": "code",
   "execution_count": 7,
   "id": "5e23cd17",
   "metadata": {},
   "outputs": [],
   "source": [
    "# Fill missing values in the `total_bedrooms` column with obtained mean value\n",
    "\n",
    "df.total_bedrooms.fillna(avg_tot_bedrooms, inplace = True)"
   ]
  },
  {
   "cell_type": "code",
   "execution_count": 8,
   "id": "b7352d40",
   "metadata": {},
   "outputs": [
    {
     "data": {
      "text/plain": [
       "longitude             0\n",
       "latitude              0\n",
       "housing_median_age    0\n",
       "total_rooms           0\n",
       "total_bedrooms        0\n",
       "population            0\n",
       "households            0\n",
       "median_income         0\n",
       "median_house_value    0\n",
       "ocean_proximity       0\n",
       "dtype: int64"
      ]
     },
     "execution_count": 8,
     "metadata": {},
     "output_type": "execute_result"
    }
   ],
   "source": [
    "# Check if there are no longer null values\n",
    "\n",
    "df.isnull().sum()"
   ]
  },
  {
   "cell_type": "code",
   "execution_count": 9,
   "id": "64beb4f9",
   "metadata": {},
   "outputs": [
    {
     "data": {
      "text/plain": [
       "537.8705525375617"
      ]
     },
     "execution_count": 9,
     "metadata": {},
     "output_type": "execute_result"
    }
   ],
   "source": [
    "# Obtain mean value of `total_bedrooms` column without null values\n",
    "\n",
    "newavg_tot_bedrooms = df.total_bedrooms.mean()\n",
    "newavg_tot_bedrooms"
   ]
  },
  {
   "cell_type": "markdown",
   "id": "7b3a5dff",
   "metadata": {},
   "source": [
    "## Question 7\n",
    "\n",
    "* Select all the options located on islands.\n",
    "\n",
    "* Select only columns housing_median_age, total_rooms, total_bedrooms.\n",
    "\n",
    "* Get the underlying NumPy array. Let's call it X.\n",
    "\n",
    "* Compute matrix-matrix multiplication between the transpose of X and X. To get the transpose, use X.T. Let's call the result XTX.\n",
    "\n",
    "* Compute the inverse of XTX.\n",
    "\n",
    "* Create an array y with values [950, 1300, 800, 1000, 1300].\n",
    "\n",
    "* Multiply the inverse of XTX with the transpose of X, and then multiply the result by y. Call the result w.\n",
    "\n",
    "* What's the value of the last element of w?\n",
    "\n",
    "`Note: You just implemented linear regression. We'll talk about it in the next lesson.`"
   ]
  },
  {
   "cell_type": "code",
   "execution_count": 10,
   "id": "6f4f3ab1",
   "metadata": {},
   "outputs": [],
   "source": [
    "# Extract `ISLAND` options from the `ocean_proximity` feature\n",
    "\n",
    "Island_Opt = df[df['ocean_proximity'] == 'ISLAND']"
   ]
  },
  {
   "cell_type": "code",
   "execution_count": 11,
   "id": "6440a64e",
   "metadata": {},
   "outputs": [
    {
     "data": {
      "text/html": [
       "<div>\n",
       "<style scoped>\n",
       "    .dataframe tbody tr th:only-of-type {\n",
       "        vertical-align: middle;\n",
       "    }\n",
       "\n",
       "    .dataframe tbody tr th {\n",
       "        vertical-align: top;\n",
       "    }\n",
       "\n",
       "    .dataframe thead th {\n",
       "        text-align: right;\n",
       "    }\n",
       "</style>\n",
       "<table border=\"1\" class=\"dataframe\">\n",
       "  <thead>\n",
       "    <tr style=\"text-align: right;\">\n",
       "      <th></th>\n",
       "      <th>housing_median_age</th>\n",
       "      <th>total_rooms</th>\n",
       "      <th>total_bedrooms</th>\n",
       "    </tr>\n",
       "  </thead>\n",
       "  <tbody>\n",
       "    <tr>\n",
       "      <th>8314</th>\n",
       "      <td>27.0</td>\n",
       "      <td>1675.0</td>\n",
       "      <td>521.0</td>\n",
       "    </tr>\n",
       "    <tr>\n",
       "      <th>8315</th>\n",
       "      <td>52.0</td>\n",
       "      <td>2359.0</td>\n",
       "      <td>591.0</td>\n",
       "    </tr>\n",
       "    <tr>\n",
       "      <th>8316</th>\n",
       "      <td>52.0</td>\n",
       "      <td>2127.0</td>\n",
       "      <td>512.0</td>\n",
       "    </tr>\n",
       "    <tr>\n",
       "      <th>8317</th>\n",
       "      <td>52.0</td>\n",
       "      <td>996.0</td>\n",
       "      <td>264.0</td>\n",
       "    </tr>\n",
       "    <tr>\n",
       "      <th>8318</th>\n",
       "      <td>29.0</td>\n",
       "      <td>716.0</td>\n",
       "      <td>214.0</td>\n",
       "    </tr>\n",
       "  </tbody>\n",
       "</table>\n",
       "</div>"
      ],
      "text/plain": [
       "      housing_median_age  total_rooms  total_bedrooms\n",
       "8314                27.0       1675.0           521.0\n",
       "8315                52.0       2359.0           591.0\n",
       "8316                52.0       2127.0           512.0\n",
       "8317                52.0        996.0           264.0\n",
       "8318                29.0        716.0           214.0"
      ]
     },
     "execution_count": 11,
     "metadata": {},
     "output_type": "execute_result"
    }
   ],
   "source": [
    "# Streamline the features of Island_Opt to only 'housing_median_age', 'total_rooms', and 'total_bedrooms'\n",
    "\n",
    "pd_1 = Island_Opt[['housing_median_age', 'total_rooms', 'total_bedrooms']]\n",
    "pd_1"
   ]
  },
  {
   "cell_type": "code",
   "execution_count": 12,
   "id": "b53879ab",
   "metadata": {},
   "outputs": [],
   "source": [
    "# Convert pd_1 to an array\n",
    "\n",
    "import numpy as np\n",
    "X = np.array(pd_1)\n"
   ]
  },
  {
   "cell_type": "code",
   "execution_count": 13,
   "id": "30c1c7e9",
   "metadata": {},
   "outputs": [],
   "source": [
    "# Obtain the transpose of X and check its shape\n",
    "\n",
    "X_T = X.T"
   ]
  },
  {
   "cell_type": "code",
   "execution_count": 14,
   "id": "fe75a687",
   "metadata": {},
   "outputs": [],
   "source": [
    "# Matrix-Matrix multiplication between X transpose and X\n",
    "\n",
    "XTX = np.dot(X_T, X)\n"
   ]
  },
  {
   "cell_type": "code",
   "execution_count": 15,
   "id": "1d63c8d4",
   "metadata": {},
   "outputs": [],
   "source": [
    "# Create an array named y\n",
    "\n",
    "y = np.array([950, 1300, 800, 1000, 1300])"
   ]
  },
  {
   "cell_type": "code",
   "execution_count": 16,
   "id": "c2c659a8",
   "metadata": {},
   "outputs": [],
   "source": [
    "# Obtain inverse of XTX\n",
    "\n",
    "XTX_inv = np.linalg.inv(XTX)"
   ]
  },
  {
   "cell_type": "code",
   "execution_count": 17,
   "id": "55cc672d",
   "metadata": {},
   "outputs": [],
   "source": [
    "# Matrix-Matrix multiplication between inverse of XTX and X transpose\n",
    "\n",
    "XTX_inv_X_T = XTX_inv @ X_T"
   ]
  },
  {
   "cell_type": "code",
   "execution_count": 18,
   "id": "a1b9878f",
   "metadata": {
    "scrolled": true
   },
   "outputs": [
    {
     "data": {
      "text/plain": [
       "array([23.12330961, -1.48124183,  5.69922946])"
      ]
     },
     "execution_count": 18,
     "metadata": {},
     "output_type": "execute_result"
    }
   ],
   "source": [
    "# Dot product of the preceeding result and y\n",
    "\n",
    "w = np.dot(XTX_inv_X_T, y)\n",
    "\n",
    "w"
   ]
  }
 ],
 "metadata": {
  "kernelspec": {
   "display_name": "Python 3 (ipykernel)",
   "language": "python",
   "name": "python3"
  },
  "language_info": {
   "codemirror_mode": {
    "name": "ipython",
    "version": 3
   },
   "file_extension": ".py",
   "mimetype": "text/x-python",
   "name": "python",
   "nbconvert_exporter": "python",
   "pygments_lexer": "ipython3",
   "version": "3.11.4"
  }
 },
 "nbformat": 4,
 "nbformat_minor": 5
}
